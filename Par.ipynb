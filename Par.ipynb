{
  "nbformat": 4,
  "nbformat_minor": 0,
  "metadata": {
    "colab": {
      "name": "Par.ipynb",
      "provenance": [],
      "collapsed_sections": [],
      "authorship_tag": "ABX9TyNTnbSHvwR/IAS3bkWS2YQ7",
      "include_colab_link": true
    },
    "kernelspec": {
      "name": "python3",
      "display_name": "Python 3"
    },
    "language_info": {
      "name": "python"
    }
  },
  "cells": [
    {
      "cell_type": "markdown",
      "metadata": {
        "id": "view-in-github",
        "colab_type": "text"
      },
      "source": [
        "<a href=\"https://colab.research.google.com/github/jeedorsa/FSD-in-AI/blob/master/Par.ipynb\" target=\"_parent\"><img src=\"https://colab.research.google.com/assets/colab-badge.svg\" alt=\"Open In Colab\"/></a>"
      ]
    },
    {
      "cell_type": "code",
      "metadata": {
        "id": "XudLsmZOLuJ_"
      },
      "source": [
        "def par(n):\n",
        "  if (n==0):\n",
        "    print(\"Digito el numero 0\")\n",
        "  else:  \n",
        "      x= n % 2\n",
        "      if(x!=0):\n",
        "        print(\"Numero Impar\")\n",
        "      else:\n",
        "        print(\"Numero Par\")"
      ],
      "execution_count": null,
      "outputs": []
    },
    {
      "cell_type": "code",
      "metadata": {
        "id": "d-MUUf87UmLk"
      },
      "source": [
        "def lectura(Lista):\n",
        "  for i in range (0,len(Lista)):\n",
        "    print(Lista[i])"
      ],
      "execution_count": null,
      "outputs": []
    },
    {
      "cell_type": "code",
      "metadata": {
        "colab": {
          "base_uri": "https://localhost:8080/"
        },
        "id": "xhh32msTpx9C",
        "outputId": "00a75b13-03cb-427b-cbe6-c3efeacd8fa3"
      },
      "source": [
        "lectura(x)"
      ],
      "execution_count": null,
      "outputs": [
        {
          "output_type": "stream",
          "text": [
            "4\n",
            "5\n",
            "carro\n"
          ],
          "name": "stdout"
        }
      ]
    },
    {
      "cell_type": "code",
      "metadata": {
        "id": "yntxUXpZoAic"
      },
      "source": [
        "x=[9,5,2,-1,-5]"
      ],
      "execution_count": null,
      "outputs": []
    },
    {
      "cell_type": "code",
      "metadata": {
        "colab": {
          "base_uri": "https://localhost:8080/"
        },
        "id": "ZTeGPqwstgtM",
        "outputId": "323976bf-6583-4d90-9279-75c19abccd9f"
      },
      "source": [
        "x"
      ],
      "execution_count": null,
      "outputs": [
        {
          "output_type": "execute_result",
          "data": {
            "text/plain": [
              "[9, 5, 2, -1, -5]"
            ]
          },
          "metadata": {
            "tags": []
          },
          "execution_count": 20
        }
      ]
    },
    {
      "cell_type": "code",
      "metadata": {
        "id": "xeot0bYhqhzl"
      },
      "source": [
        "if (x[1]=='9'):\n",
        "  print(\"yeah\")"
      ],
      "execution_count": null,
      "outputs": []
    },
    {
      "cell_type": "code",
      "metadata": {
        "id": "HEVsvIPJq5Bd"
      },
      "source": [
        "x[0]='4'"
      ],
      "execution_count": null,
      "outputs": []
    },
    {
      "cell_type": "code",
      "metadata": {
        "colab": {
          "base_uri": "https://localhost:8080/"
        },
        "id": "IPSOWq3EtN1e",
        "outputId": "fa409b4a-f449-4cfe-a423-97c098db4b64"
      },
      "source": [
        "4+4+4+4+4"
      ],
      "execution_count": null,
      "outputs": [
        {
          "output_type": "execute_result",
          "data": {
            "text/plain": [
              "20"
            ]
          },
          "metadata": {
            "tags": []
          },
          "execution_count": 23
        }
      ]
    },
    {
      "cell_type": "code",
      "metadata": {
        "colab": {
          "base_uri": "https://localhost:8080/"
        },
        "id": "jG15MUBGt9y-",
        "outputId": "078d21c3-199e-4077-faee-9e9baae59d41"
      },
      "source": [
        "4*5"
      ],
      "execution_count": null,
      "outputs": [
        {
          "output_type": "execute_result",
          "data": {
            "text/plain": [
              "20"
            ]
          },
          "metadata": {
            "tags": []
          },
          "execution_count": 24
        }
      ]
    },
    {
      "cell_type": "code",
      "metadata": {
        "colab": {
          "base_uri": "https://localhost:8080/"
        },
        "id": "lznTt_mSt1NN",
        "outputId": "7e7ef8b0-294e-4ac5-8b97-ef9a5cce1e76"
      },
      "source": [
        "for i in range(0,15):\n",
        "  print(i)"
      ],
      "execution_count": null,
      "outputs": [
        {
          "output_type": "stream",
          "text": [
            "0\n",
            "1\n",
            "2\n",
            "3\n",
            "4\n",
            "5\n",
            "6\n",
            "7\n",
            "8\n",
            "9\n",
            "10\n",
            "11\n",
            "12\n",
            "13\n",
            "14\n"
          ],
          "name": "stdout"
        }
      ]
    },
    {
      "cell_type": "code",
      "metadata": {
        "id": "OXY-XUhVuH7s"
      },
      "source": [
        "print(0)\n",
        "print(1)"
      ],
      "execution_count": null,
      "outputs": []
    },
    {
      "cell_type": "markdown",
      "metadata": {
        "id": "-QbVlPdQY5Ty"
      },
      "source": [
        "### Ejercicio 1\n"
      ]
    },
    {
      "cell_type": "code",
      "metadata": {
        "id": "blOxpGTzY8us"
      },
      "source": [
        "def hipoteca(termino, tae, capital):\n",
        "  tiempo=termino*12\n",
        "  interes=tae/12\n",
        "  x=interes*(1+interes)**tiempo\n",
        "  y=(1+interes)**tiempo-1\n",
        "  total=capital*(x/y)\n",
        "  return(total)\n"
      ],
      "execution_count": 24,
      "outputs": []
    },
    {
      "cell_type": "code",
      "metadata": {
        "id": "uO8PFub1aO4L"
      },
      "source": [
        "interes=0.03\n",
        "termino=30\n",
        "capital=400000"
      ],
      "execution_count": 18,
      "outputs": []
    },
    {
      "cell_type": "code",
      "metadata": {
        "colab": {
          "base_uri": "https://localhost:8080/"
        },
        "id": "RI-4gWAOgAVd",
        "outputId": "f5a0e2f2-05e4-4c8c-9c0d-c1979d63450e"
      },
      "source": [
        "pay_monthly=hipoteca(termino,interes, capital)\n",
        "print(\"Total a pagar \",pay_monthly)"
      ],
      "execution_count": 27,
      "outputs": [
        {
          "output_type": "stream",
          "text": [
            "Total a pagar  1686.4161349178237\n"
          ],
          "name": "stdout"
        }
      ]
    }
  ]
}